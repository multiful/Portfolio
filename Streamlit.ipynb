{
 "cells": [
  {
   "cell_type": "code",
   "execution_count": 4,
   "metadata": {},
   "outputs": [
    {
     "data": {
      "text/plain": [
       "DeltaGenerator()"
      ]
     },
     "execution_count": 4,
     "metadata": {},
     "output_type": "execute_result"
    }
   ],
   "source": [
    "import streamlit as st  # streamlit 라이브러리 임포트\n",
    "\n",
    "# 타이틀 텍스트 출력\n",
    "st.title('첫번째 웹 어플 만들기 👋')\n",
    "\n",
    "# 텍스트 출력\n",
    "st.write('# 1. Markdown 텍스트 작성하기')\n",
    "\n",
    "# Markdown 문법으로 작성된 문장 출력\n",
    "st.markdown(\n",
    "    '''\n",
    "    # 마크다운 헤더1\n",
    "    - 마크다운 목록1. **굵게** 표시\n",
    "    - 마크다운 목록2. *기울임* 표시\n",
    "        - 마크다운 목록2-1\n",
    "        - 마크다운 목록2-2\n",
    "\n",
    "    ## 마크다운 헤더2\n",
    "    - [네이버](https://naver.com)\n",
    "    - [구글](https://google.com)\n",
    "\n",
    "    ### 마크다운 헤더3\n",
    "    일반 텍스트\n",
    "    '''\n",
    "    )\n",
    "\n",
    "# DataFrame 출력\n",
    "import pandas as pd  # pandas 라이브러리 임포트\n",
    "\n",
    "st.write('# 2. DataFrame 표시하기')  # 텍스트 출력\n",
    "df = pd.DataFrame({  # DataFrame 생성\n",
    "    '이름': ['홍길동', '이순신', '강감찬'],\n",
    "    '나이': [20, 45, 35]\n",
    "})\n",
    "\n",
    "st.dataframe(df)  # DataFrame 출력\n",
    "\n",
    "# 그래프 출력\n",
    "import numpy as np   # numpy 라이브러리 임포트\n",
    "\n",
    "st.write('# 3. 그래프 표시하기')  # 텍스트 출력\n",
    "chart_data = pd.DataFrame(np.random.randn(20, 3), columns=[\"a\", \"b\", \"c\"]) # DataFrame 생성\n",
    "\n",
    "st.bar_chart(chart_data)  # 바 차트 출력\n",
    "\n",
    "# 이미지 출력\n",
    "from PIL import Image     # 이미지 처리를 위한 PIL 라이브러리 임포트\n",
    "\n",
    "st.write('# 4. 이미지 표시하기')   # 텍스트 출력\n",
    "img = Image.open('chi.png')    # 이미지 파일 열기\n",
    "st.image(img, width=300)          # 이미지 출력"
   ]
  },
  {
   "cell_type": "code",
   "execution_count": null,
   "metadata": {},
   "outputs": [],
   "source": []
  }
 ],
 "metadata": {
  "kernelspec": {
   "display_name": "Python 3",
   "language": "python",
   "name": "python3"
  },
  "language_info": {
   "codemirror_mode": {
    "name": "ipython",
    "version": 3
   },
   "file_extension": ".py",
   "mimetype": "text/x-python",
   "name": "python",
   "nbconvert_exporter": "python",
   "pygments_lexer": "ipython3",
   "version": "3.12.2"
  }
 },
 "nbformat": 4,
 "nbformat_minor": 2
}
